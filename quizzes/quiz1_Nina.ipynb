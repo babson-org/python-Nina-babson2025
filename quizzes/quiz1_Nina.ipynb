{
 "cells": [
  {
   "cell_type": "markdown",
   "id": "30bd8110",
   "metadata": {},
   "source": [
    "# Lab Exercise: Diamond Printing and Caesar Cipher\n",
    "\n",
    "This quiz contains two questions on loops, string manipulation, and basic cryptography."
   ]
  },
  {
   "cell_type": "markdown",
   "id": "226e9a4b",
   "metadata": {},
   "source": [
    "## Question 1: Diamond Printing\n",
    "\n",
    "In the code cell below, modify the two `for` loop `range` statements to make the code print out a solid diamond.\n",
    "Your output should look like:\n",
    "\n",
    "```\n",
    "  *\n",
    " ***\n",
    "*****       # if height entered is 5\n",
    " ***\n",
    "  *\n",
    "```"
   ]
  },
  {
   "cell_type": "code",
   "execution_count": null,
   "id": "2be6f10e",
   "metadata": {},
   "outputs": [
    {
     "name": "stdout",
     "output_type": "stream",
     "text": [
      "7\n",
      "   ********\n",
      "  ******\n",
      " ****\n"
     ]
    }
   ],
   "source": [
    "'''\n",
    "\n",
    "Grade part 1: C-\n",
    "Grade part 2: C-\n",
    "\n",
    "Total C-\n",
    "\n",
    "'''\n",
    "\n",
    "\n",
    "txt = \"Please input a height, an odd integer between 3 and 15 inclusive: \"\n",
    "while True:\n",
    "    try:\n",
    "        height = int(input(txt))\n",
    "    except ValueError:\n",
    "        txt = 'Enter an integer: '        \n",
    "    else:\n",
    "        if(height < 3 or height > 15):\n",
    "            txt = 'between 3 and 15 please: '\n",
    "        elif height % 2 == 0:\n",
    "            txt = ' an odd number please'\n",
    "        else:\n",
    "            break\n",
    "\n",
    "half = height // 2\n",
    "\n",
    "'''\n",
    "Hint:\n",
    "    leading_spaces is already figured out for you.\n",
    "    In each loop we just need to figure out the number of '*\"s \n",
    "    to print out.  Suppose height = 7:    \n",
    "\n",
    "    For the top diamond we need a loop that will generate the sequence\n",
    "    1, 3, 5, 7 think of using height and the step function in range. \n",
    "    Remember range(start,stop,step) will include start but not stop.\n",
    "\n",
    "    In the bottom diamond we need a loop that will generate the sequence\n",
    "    5, 3, 1.  Again, think of using height and the step function in range.\n",
    "    Notice in the top half we end with printing out height number of stars.\n",
    "\n",
    "          *\n",
    "         ***\n",
    "        *****\n",
    "       *******    last line of top half, height number of stars\n",
    "\n",
    "    Each subsequent row prints out 2 '*' s less so a -2 may come in handy (twice!)\n",
    "\n",
    "\n",
    "'''\n",
    "\n",
    "'''\n",
    "Both your ranges don't make logical sense.  What you have\n",
    "will never loop.  the correct range statements are:\n",
    "\n",
    "for star_count in range(1, height + 1, 2):\n",
    "for star_count in range(height - 2, 0, -2)\n",
    "\n",
    "If you don't understand what's going on, please set up a webex with me.\n",
    "\n",
    "'''\n",
    "\n",
    "\n",
    "# Top half of diamond\n",
    "leading_spaces = half\n",
    "for star_count in range(height+1,2):               # TODO only modify this statement - assuming height 7, want to skip by 3 from 1-7 (enter 8)\n",
    "    print(\" \" * leading_spaces + \"*\" * star_count)      # don't need spaces in between like in lab1\n",
    "    leading_spaces -= 1\n",
    "\n",
    "# Bottom half of diamond\n",
    "leading_spaces = 1\n",
    "for star_count in range(height-2, -2):               # TODO only modify this statement\n",
    "    print(\" \" * leading_spaces + \"*\" * star_count)\n",
    "    leading_spaces += 1"
   ]
  },
  {
   "cell_type": "markdown",
   "id": "b60e50c0",
   "metadata": {},
   "source": [
    "## Question 2: Caesar Cipher Decryption\n",
    "\n",
    "The program below will decrypt a message using the Caesar cipher. Julius needs to decode the message. Modify the code to try all possible shifts (1 to 25) to find the secret message.\n",
    "\n",
    "Hint: Use `if 'python' in decode_msg:` to check for the correct decoding."
   ]
  },
  {
   "cell_type": "code",
   "execution_count": null,
   "id": "9bbeca70",
   "metadata": {},
   "outputs": [
    {
     "name": "stdout",
     "output_type": "stream",
     "text": [
      "Shift is 15 therefore your message is if you get this message, you are mastering python\n"
     ]
    }
   ],
   "source": [
    "import string\n",
    "\n",
    "msg = 'xu ndj vti iwxh bthhpvt, ndj pgt bphitgxcv eniwdc'\n",
    "\n",
    "alphabet = list(string.ascii_lowercase)\n",
    "\n",
    "# TODO: create a loop from 1 to 25 to try all shifts\n",
    "#       decode the message and print the one containing 'python'\n",
    "#       The code below should be inside this loop\n",
    "\n",
    "for shift in range(1,26):  #TODO fix range\n",
    "    shifted = [None] * 26\n",
    "    for idx in range(26):\n",
    "        new_idx = (idx - shift) % 26\n",
    "        shifted[new_idx] = alphabet[idx]\n",
    "\n",
    "    decode_msg = ''\n",
    "    for character in msg:\n",
    "        if character.isalpha():\n",
    "            idx = shifted.index(character)\n",
    "            decode_msg += alphabet[idx]\n",
    "        else:\n",
    "            decode_msg += character\n",
    "\n",
    "        # TODO add code to check if python is in the decoded message\n",
    "        # if it is print out the decoded message and the shift value\n",
    "\n",
    "    '''\n",
    "#####################let's examine thi block##############################################        \n",
    "if \"python\" in decode_msg:\n",
    "    print(\"Shift is\" {shift} \"therefore your message is\" [decode_msg])\n",
    "###################################################################\n",
    "'''\n",
    "\n",
    "    # 1) block is outside your main for loop for shift in range(1,26):\n",
    "    #    so it only checks the last one\n",
    "    # 2) Bad use of quotes\n",
    "    # 3) [decode_msg] doesn't make sense\n",
    "    # 4) need to us f string with {}\n",
    "\n",
    "    # the following should work:\n",
    "    if \"python\" in decode_msg:\n",
    "        print(f\"Shift is {shift} therefore your message is {decode_msg}\")\n"
   ]
  }
 ],
 "metadata": {
  "kernelspec": {
   "display_name": "venv",
   "language": "python",
   "name": "python3"
  },
  "language_info": {
   "codemirror_mode": {
    "name": "ipython",
    "version": 3
   },
   "file_extension": ".py",
   "mimetype": "text/x-python",
   "name": "python",
   "nbconvert_exporter": "python",
   "pygments_lexer": "ipython3",
   "version": "3.10.18"
  }
 },
 "nbformat": 4,
 "nbformat_minor": 5
}
